{
 "cells": [
  {
   "cell_type": "markdown",
   "id": "d80c70b0",
   "metadata": {},
   "source": [
    "# Snakemake Presentation Demo"
   ]
  },
  {
   "cell_type": "markdown",
   "id": "eda94e6d-f106-496a-969c-7d3319da9a90",
   "metadata": {},
   "source": [
    "## Execution syntax"
   ]
  },
  {
   "cell_type": "markdown",
   "id": "5da29306-2aa6-4988-813f-6bfb46893658",
   "metadata": {},
   "source": [
    "Snakemake figures out which jobs needs to be run to produce the desired file:"
   ]
  },
  {
   "cell_type": "code",
   "execution_count": null,
   "id": "a6aa350b-142f-46c6-a393-564d84736cd9",
   "metadata": {},
   "outputs": [],
   "source": [
    "!rm base-data.json fixtures.json"
   ]
  },
  {
   "cell_type": "code",
   "execution_count": null,
   "id": "e3f6a8c4-92c8-43a8-93d1-37006f5ff935",
   "metadata": {},
   "outputs": [],
   "source": [
    "!snakemake base-data.json --dry-run"
   ]
  },
  {
   "cell_type": "markdown",
   "id": "ed544064-c7e9-4315-a10b-658c79cc6e5d",
   "metadata": {},
   "source": [
    "To execute the job listed above, we remove \"dry-run\" and specify the number of cores available to snakemake."
   ]
  },
  {
   "cell_type": "code",
   "execution_count": null,
   "id": "b6c20347-2bcf-4710-8deb-0928dd17f5fc",
   "metadata": {},
   "outputs": [],
   "source": [
    "!snakemake base-data.json --cores 1"
   ]
  },
  {
   "cell_type": "markdown",
   "id": "6a4f1642-bbe0-44dc-a335-8e8b9fab6277",
   "metadata": {},
   "source": [
    "With repeated execution, snakemake find that the output already exists, and does nothing."
   ]
  },
  {
   "cell_type": "code",
   "execution_count": null,
   "id": "9183dc1a-111c-40ef-a314-d84d781ad69c",
   "metadata": {},
   "outputs": [],
   "source": [
    "!snakemake base-data.json --cores 1"
   ]
  },
  {
   "cell_type": "markdown",
   "id": "e8997599-3452-4fb8-9c4d-f490e8f410fa",
   "metadata": {},
   "source": [
    "## Pipelines"
   ]
  },
  {
   "cell_type": "code",
   "execution_count": null,
   "id": "0ec12671-ba6f-4811-97ec-4a03bc646276",
   "metadata": {},
   "outputs": [],
   "source": [
    "!snakemake figures/erling_haaland.png -n"
   ]
  },
  {
   "cell_type": "markdown",
   "id": "62065e92-9673-4bf5-94a9-e817cf7e06f1",
   "metadata": {},
   "source": [
    "The execution pipeline to acquire a specific file, with upstream dependencies may easily be visualized:"
   ]
  },
  {
   "cell_type": "code",
   "execution_count": null,
   "id": "7d512653-1fbe-4975-97ea-42af5a70e1b1",
   "metadata": {},
   "outputs": [],
   "source": [
    "%%bash \n",
    "snakemake figures/erling_haaland.png --filegraph -c1  | dot -Tpng > filegraph.png\n",
    "snakemake figures/erling_haaland.png --dag -c1 | dot -Tpng > dag.png"
   ]
  },
  {
   "cell_type": "code",
   "execution_count": null,
   "id": "d7374559-035f-4103-94ee-27d2d8bc97df",
   "metadata": {},
   "outputs": [],
   "source": [
    "from IPython.display import Image\n",
    "Image(filename='filegraph.png') "
   ]
  },
  {
   "cell_type": "code",
   "execution_count": null,
   "id": "5a754733-44c1-4b64-8422-1aff9fc29539",
   "metadata": {},
   "outputs": [],
   "source": [
    "Image(filename='dag.png')"
   ]
  },
  {
   "cell_type": "markdown",
   "id": "c2e4171d-f1b6-4bb2-bf3f-4765aad3b714",
   "metadata": {},
   "source": [
    "## Multicore support"
   ]
  },
  {
   "cell_type": "markdown",
   "id": "602f8c62-9d83-4848-986e-db74972f9f31",
   "metadata": {},
   "source": [
    "Easily specify multiple files if desired"
   ]
  },
  {
   "cell_type": "code",
   "execution_count": null,
   "id": "2ac24a91-7745-42c5-8bad-f20ca92eb08c",
   "metadata": {},
   "outputs": [],
   "source": [
    "!snakemake figures/erling_haaland.png figures/mohamed_salah.png -n"
   ]
  },
  {
   "cell_type": "code",
   "execution_count": null,
   "id": "32dea4a2-b6cc-49e3-a387-b178e0197041",
   "metadata": {},
   "outputs": [],
   "source": [
    "!touch base-data.json\n",
    "!snakemake figures/erling_haaland.png figures/mohamed_salah.png -n"
   ]
  },
  {
   "cell_type": "code",
   "execution_count": null,
   "id": "72fb5c7e-a344-490b-aca0-4fbb0eb9365d",
   "metadata": {},
   "outputs": [],
   "source": [
    "!touch base-data.json\n",
    "!snakemake figures/erling_haaland.png figures/mohamed_salah.png --cores 1"
   ]
  },
  {
   "cell_type": "code",
   "execution_count": null,
   "id": "e95fc566-e233-4e30-93f8-147180aca8ca",
   "metadata": {},
   "outputs": [],
   "source": [
    "!touch base-data.json\n",
    "!snakemake figures/erling_haaland.png figures/mohamed_salah.png --cores 2"
   ]
  },
  {
   "cell_type": "markdown",
   "id": "b66eff30-5981-4789-ac5d-c4c461740f72",
   "metadata": {},
   "source": [
    "## Scripts"
   ]
  },
  {
   "cell_type": "markdown",
   "id": "11222ca7-e80a-4f9d-b329-fe0eb385dfda",
   "metadata": {},
   "source": [
    "The job `player_score_plot`, uses a script, which injects a `snakemake`-object into the environment.\n",
    "\n",
    "Limited usage:\n",
    "- It's easy to make CLIs for Python, which would allow scripts to be used both with and without snakemake."
   ]
  },
  {
   "cell_type": "markdown",
   "id": "544e1840-beed-4328-a6f7-d9d2d46e7c27",
   "metadata": {},
   "source": [
    "# Notebooks"
   ]
  },
  {
   "cell_type": "markdown",
   "id": "145c2d2a-c58c-4ca0-82db-1dcfaec298ed",
   "metadata": {},
   "source": [
    "Now we are not only interested in single players, but in the performance of a whole team."
   ]
  },
  {
   "cell_type": "code",
   "execution_count": null,
   "id": "95ce5b9c-9ebc-4625-af55-4dc579787fc8",
   "metadata": {},
   "outputs": [],
   "source": [
    "!snakemake figures/team1_performance.png --dag -c1 | dot -Tpng > team_dag.png\n",
    "!snakemake figures/team1_performance.png --filegraph -c1 | dot -Tpng > team_filegraph.png\n",
    "Image(filename='team_filegraph.png')"
   ]
  },
  {
   "cell_type": "code",
   "execution_count": null,
   "id": "68027143-3ca4-45ef-9bd7-07d4cc59a2a7",
   "metadata": {},
   "outputs": [],
   "source": [
    "Image(filename='team_dag.png')"
   ]
  },
  {
   "cell_type": "code",
   "execution_count": null,
   "id": "bb67be45-a705-4c2b-a270-2da6c8ea8d96",
   "metadata": {},
   "outputs": [],
   "source": [
    "!snakemake --edit-notebook figures/team1_performance.png  -c all"
   ]
  },
  {
   "cell_type": "markdown",
   "id": "c6f92f28-bc8d-4e9b-bfb9-53882c7bcaf4",
   "metadata": {},
   "source": [
    "## Execute `all`"
   ]
  },
  {
   "cell_type": "code",
   "execution_count": null,
   "id": "e74840aa",
   "metadata": {},
   "outputs": [],
   "source": [
    "!snakemake -n "
   ]
  }
 ],
 "metadata": {
  "kernelspec": {
   "display_name": "Python 3 (ipykernel)",
   "language": "python",
   "name": "python3"
  },
  "language_info": {
   "codemirror_mode": {
    "name": "ipython",
    "version": 3
   },
   "file_extension": ".py",
   "mimetype": "text/x-python",
   "name": "python",
   "nbconvert_exporter": "python",
   "pygments_lexer": "ipython3",
   "version": "3.13.7"
  }
 },
 "nbformat": 4,
 "nbformat_minor": 5
}
