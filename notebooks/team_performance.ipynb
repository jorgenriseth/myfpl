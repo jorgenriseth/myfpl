{
 "cells": [
  {
   "cell_type": "code",
   "execution_count": null,
   "id": "bb5226ab",
   "metadata": {},
   "outputs": [],
   "source": [
    "import matplotlib.pyplot"
   ]
  },
  {
   "cell_type": "code",
   "execution_count": null,
   "id": "4d857b04",
   "metadata": {},
   "outputs": [],
   "source": [
    "import os\n",
    "import json\n",
    "import pandas as pd\n",
    "import matplotlib.pyplot as plt\n",
    "import seaborn as sns\n",
    "\n",
    "def collect_player_data(json_files):\n",
    "    rows = []\n",
    "    for fname in json_files:\n",
    "        with open(fname, \"r\", encoding=\"utf8\") as f:\n",
    "            data = json.load(f)\n",
    "        rows.append({\n",
    "            \"id\": data.get(\"id\"),\n",
    "            \"name\": data.get(\"name\"),\n",
    "            \"position\": data.get(\"position\"),\n",
    "            \"cost\": data.get(\"cost_million\"),\n",
    "            \"total_points\": data.get(\"total_points\"),\n",
    "            \"team\": data.get(\"team\", {}).get(\"name\"),\n",
    "        })\n",
    "    df = pd.DataFrame(rows)\n",
    "    return df\n",
    "\n",
    "\n",
    "def plot_value_bar(df, output=None):\n",
    "    df[\"value\"] = df[\"total_points\"] / df[\"cost\"]\n",
    "    df_sorted = df.sort_values(\"value\", ascending=False)\n",
    "    fig, ax = plt.subplots(figsize=(10, 6))\n",
    "    ax = sns.barplot(\n",
    "        x=\"name\",\n",
    "        y=\"value\",\n",
    "        hue=\"position\",\n",
    "        data=df_sorted,\n",
    "        dodge=False,\n",
    "        palette=\"Set2\"\n",
    "    )\n",
    "    plt.xticks(rotation=45, ha=\"right\")\n",
    "    plt.ylabel(\"Score / Cost\")\n",
    "    plt.xlabel(\"Player\")\n",
    "    plt.title(\"Player Value (Score/Cost)\")\n",
    "    plt.tight_layout()\n",
    "    plt.legend(title=\"Position\")\n",
    "    if output is not None:\n",
    "        plt.savefig(str(output))\n",
    "    return plt.gcf()"
   ]
  },
  {
   "cell_type": "code",
   "execution_count": null,
   "id": "43c12046-da26-4cac-9cd1-0f82d6b2953c",
   "metadata": {},
   "outputs": [],
   "source": [
    "df = collect_player_data(snakemake.input.players)\n",
    "df"
   ]
  },
  {
   "cell_type": "code",
   "execution_count": null,
   "id": "797d3f7b-f12e-48f9-bec7-6725eedbdb74",
   "metadata": {},
   "outputs": [],
   "source": [
    "fig = plot_value_bar(df, output=snakemake.output)\n",
    "plt.show()"
   ]
  }
 ],
 "metadata": {
  "kernelspec": {
   "display_name": "Python 3 (ipykernel)",
   "language": "python",
   "name": "python3"
  },
  "language_info": {
   "codemirror_mode": {
    "name": "ipython",
    "version": 3
   },
   "file_extension": ".py",
   "mimetype": "text/x-python",
   "name": "python",
   "nbconvert_exporter": "python",
   "pygments_lexer": "ipython3",
   "version": "3.13.7"
  }
 },
 "nbformat": 4,
 "nbformat_minor": 5
}
